{
 "cells": [
  {
   "cell_type": "markdown",
   "id": "bc08ddc4",
   "metadata": {},
   "source": [
    "#### Aim: To avoid rejects\n",
    "\n",
    "#### Approach: To find the features that are affecting the rejections the most. "
   ]
  },
  {
   "cell_type": "code",
   "execution_count": 2,
   "id": "810310cc",
   "metadata": {},
   "outputs": [],
   "source": [
    "import pandas as pd\n",
    "\n",
    "#Visualization libraries\n",
    "import matplotlib.pyplot as plt\n",
    "from matplotlib.ticker import FormatStrFormatter\n",
    "import seaborn as sns\n",
    "import plotly.express as px\n",
    "import plotly.graph_objs as go\n",
    "from plotly import tools\n",
    "from plotly.offline import iplot"
   ]
  },
  {
   "cell_type": "code",
   "execution_count": 3,
   "id": "5ce585fe",
   "metadata": {},
   "outputs": [],
   "source": [
    "assignment_data = pd.read_csv(r\"G:\\Swiggy\\Data\\Assignment_Data.csv\")\n",
    "\n",
    "delivery_partners_data = pd.read_csv(r\"G:\\Swiggy\\Data\\Delivery_Partners_Data.csv\")"
   ]
  },
  {
   "cell_type": "code",
   "execution_count": 4,
   "id": "dc80317a",
   "metadata": {
    "scrolled": false
   },
   "outputs": [
    {
     "data": {
      "text/html": [
       "<div>\n",
       "<style scoped>\n",
       "    .dataframe tbody tr th:only-of-type {\n",
       "        vertical-align: middle;\n",
       "    }\n",
       "\n",
       "    .dataframe tbody tr th {\n",
       "        vertical-align: top;\n",
       "    }\n",
       "\n",
       "    .dataframe thead th {\n",
       "        text-align: right;\n",
       "    }\n",
       "</style>\n",
       "<table border=\"1\" class=\"dataframe\">\n",
       "  <thead>\n",
       "    <tr style=\"text-align: right;\">\n",
       "      <th></th>\n",
       "      <th>ORDER_ID</th>\n",
       "      <th>DE_ID</th>\n",
       "      <th>ASSIGNMENT_START_TIME</th>\n",
       "      <th>ASSIGNMENT_END_TIME</th>\n",
       "      <th>reject_ind</th>\n",
       "      <th>reject_type</th>\n",
       "      <th>PLACED_TIME</th>\n",
       "      <th>DELIVERED_TIME</th>\n",
       "      <th>LASTMILE_DISTANCE</th>\n",
       "      <th>FIRSTMILE_DISTANCE</th>\n",
       "      <th>LAST_MILE_TIME_PREDICTED</th>\n",
       "      <th>PAYOUT_MADE_TO_DE</th>\n",
       "      <th>NUM_PING_COUNT_LAST10MIN</th>\n",
       "      <th>LAST_PING_TIME_LAST10MIN</th>\n",
       "      <th>CUSTOMER_ZONE</th>\n",
       "      <th>CUSTOMER_LAT</th>\n",
       "      <th>CUSTOMER_LNG</th>\n",
       "    </tr>\n",
       "  </thead>\n",
       "  <tbody>\n",
       "    <tr>\n",
       "      <th>0</th>\n",
       "      <td>2745</td>\n",
       "      <td>180976</td>\n",
       "      <td>2021-02-13 03:08:24.000</td>\n",
       "      <td>2021-02-13 03:38:26.000</td>\n",
       "      <td>0</td>\n",
       "      <td>NaN</td>\n",
       "      <td>2021-02-13 03:01:11.686</td>\n",
       "      <td>2021-02-13 03:43:26.000</td>\n",
       "      <td>320.9</td>\n",
       "      <td>320.0</td>\n",
       "      <td>314.0</td>\n",
       "      <td>1810.0</td>\n",
       "      <td>63</td>\n",
       "      <td>2021-02-13 03:07:34.000</td>\n",
       "      <td>373.0</td>\n",
       "      <td>37.377569</td>\n",
       "      <td>72.832560</td>\n",
       "    </tr>\n",
       "    <tr>\n",
       "      <th>1</th>\n",
       "      <td>9462</td>\n",
       "      <td>280243</td>\n",
       "      <td>2021-02-14 05:06:40.000</td>\n",
       "      <td>2021-02-14 05:31:04.000</td>\n",
       "      <td>0</td>\n",
       "      <td>NaN</td>\n",
       "      <td>2021-02-14 04:54:25.832</td>\n",
       "      <td>2021-02-14 05:36:04.000</td>\n",
       "      <td>516.8</td>\n",
       "      <td>342.5</td>\n",
       "      <td>451.0</td>\n",
       "      <td>3210.0</td>\n",
       "      <td>27</td>\n",
       "      <td>2021-02-14 05:06:40.000</td>\n",
       "      <td>373.0</td>\n",
       "      <td>37.380613</td>\n",
       "      <td>72.796909</td>\n",
       "    </tr>\n",
       "    <tr>\n",
       "      <th>2</th>\n",
       "      <td>14071</td>\n",
       "      <td>339813</td>\n",
       "      <td>2021-02-15 02:22:40.000</td>\n",
       "      <td>2021-02-15 02:44:02.000</td>\n",
       "      <td>0</td>\n",
       "      <td>NaN</td>\n",
       "      <td>2021-02-15 02:01:17.864</td>\n",
       "      <td>2021-02-15 02:49:02.000</td>\n",
       "      <td>459.5</td>\n",
       "      <td>418.7</td>\n",
       "      <td>443.0</td>\n",
       "      <td>2910.0</td>\n",
       "      <td>57</td>\n",
       "      <td>2021-02-15 02:22:35.000</td>\n",
       "      <td>373.0</td>\n",
       "      <td>37.372032</td>\n",
       "      <td>72.805871</td>\n",
       "    </tr>\n",
       "    <tr>\n",
       "      <th>3</th>\n",
       "      <td>14442</td>\n",
       "      <td>1315348</td>\n",
       "      <td>2021-02-15 03:01:25.000</td>\n",
       "      <td>2021-02-15 03:15:02.000</td>\n",
       "      <td>0</td>\n",
       "      <td>NaN</td>\n",
       "      <td>2021-02-15 02:43:41.129</td>\n",
       "      <td>2021-02-15 03:20:02.000</td>\n",
       "      <td>376.4</td>\n",
       "      <td>332.9</td>\n",
       "      <td>367.3</td>\n",
       "      <td>3210.0</td>\n",
       "      <td>41</td>\n",
       "      <td>2021-02-15 03:00:28.000</td>\n",
       "      <td>373.0</td>\n",
       "      <td>37.371380</td>\n",
       "      <td>72.819992</td>\n",
       "    </tr>\n",
       "    <tr>\n",
       "      <th>4</th>\n",
       "      <td>14515</td>\n",
       "      <td>1186729</td>\n",
       "      <td>2021-02-15 03:12:24.000</td>\n",
       "      <td>2021-02-15 03:50:24.000</td>\n",
       "      <td>0</td>\n",
       "      <td>NaN</td>\n",
       "      <td>2021-02-15 02:48:17.074</td>\n",
       "      <td>2021-02-15 03:55:24.000</td>\n",
       "      <td>414.5</td>\n",
       "      <td>334.1</td>\n",
       "      <td>413.2</td>\n",
       "      <td>3210.0</td>\n",
       "      <td>13</td>\n",
       "      <td>2021-02-15 03:12:09.000</td>\n",
       "      <td>373.0</td>\n",
       "      <td>37.369925</td>\n",
       "      <td>72.826764</td>\n",
       "    </tr>\n",
       "  </tbody>\n",
       "</table>\n",
       "</div>"
      ],
      "text/plain": [
       "   ORDER_ID    DE_ID    ASSIGNMENT_START_TIME      ASSIGNMENT_END_TIME  \\\n",
       "0      2745   180976  2021-02-13 03:08:24.000  2021-02-13 03:38:26.000   \n",
       "1      9462   280243  2021-02-14 05:06:40.000  2021-02-14 05:31:04.000   \n",
       "2     14071   339813  2021-02-15 02:22:40.000  2021-02-15 02:44:02.000   \n",
       "3     14442  1315348  2021-02-15 03:01:25.000  2021-02-15 03:15:02.000   \n",
       "4     14515  1186729  2021-02-15 03:12:24.000  2021-02-15 03:50:24.000   \n",
       "\n",
       "   reject_ind reject_type              PLACED_TIME           DELIVERED_TIME  \\\n",
       "0           0         NaN  2021-02-13 03:01:11.686  2021-02-13 03:43:26.000   \n",
       "1           0         NaN  2021-02-14 04:54:25.832  2021-02-14 05:36:04.000   \n",
       "2           0         NaN  2021-02-15 02:01:17.864  2021-02-15 02:49:02.000   \n",
       "3           0         NaN  2021-02-15 02:43:41.129  2021-02-15 03:20:02.000   \n",
       "4           0         NaN  2021-02-15 02:48:17.074  2021-02-15 03:55:24.000   \n",
       "\n",
       "   LASTMILE_DISTANCE  FIRSTMILE_DISTANCE  LAST_MILE_TIME_PREDICTED  \\\n",
       "0              320.9               320.0                     314.0   \n",
       "1              516.8               342.5                     451.0   \n",
       "2              459.5               418.7                     443.0   \n",
       "3              376.4               332.9                     367.3   \n",
       "4              414.5               334.1                     413.2   \n",
       "\n",
       "   PAYOUT_MADE_TO_DE  NUM_PING_COUNT_LAST10MIN LAST_PING_TIME_LAST10MIN  \\\n",
       "0             1810.0                        63  2021-02-13 03:07:34.000   \n",
       "1             3210.0                        27  2021-02-14 05:06:40.000   \n",
       "2             2910.0                        57  2021-02-15 02:22:35.000   \n",
       "3             3210.0                        41  2021-02-15 03:00:28.000   \n",
       "4             3210.0                        13  2021-02-15 03:12:09.000   \n",
       "\n",
       "   CUSTOMER_ZONE  CUSTOMER_LAT  CUSTOMER_LNG  \n",
       "0          373.0     37.377569     72.832560  \n",
       "1          373.0     37.380613     72.796909  \n",
       "2          373.0     37.372032     72.805871  \n",
       "3          373.0     37.371380     72.819992  \n",
       "4          373.0     37.369925     72.826764  "
      ]
     },
     "execution_count": 4,
     "metadata": {},
     "output_type": "execute_result"
    }
   ],
   "source": [
    "assignment_data.head()"
   ]
  },
  {
   "cell_type": "code",
   "execution_count": 5,
   "id": "5c6819c3",
   "metadata": {
    "scrolled": true
   },
   "outputs": [
    {
     "data": {
      "text/html": [
       "<div>\n",
       "<style scoped>\n",
       "    .dataframe tbody tr th:only-of-type {\n",
       "        vertical-align: middle;\n",
       "    }\n",
       "\n",
       "    .dataframe tbody tr th {\n",
       "        vertical-align: top;\n",
       "    }\n",
       "\n",
       "    .dataframe thead th {\n",
       "        text-align: right;\n",
       "    }\n",
       "</style>\n",
       "<table border=\"1\" class=\"dataframe\">\n",
       "  <thead>\n",
       "    <tr style=\"text-align: right;\">\n",
       "      <th></th>\n",
       "      <th>DE_ID</th>\n",
       "      <th>SHIFT_END_TIME</th>\n",
       "      <th>DE_HOME_LAT</th>\n",
       "      <th>DE_HOME_LNG</th>\n",
       "      <th>DE_JOINING_DATE</th>\n",
       "      <th>DE_ZONE_ID</th>\n",
       "    </tr>\n",
       "  </thead>\n",
       "  <tbody>\n",
       "    <tr>\n",
       "      <th>0</th>\n",
       "      <td>141533</td>\n",
       "      <td>06:42</td>\n",
       "      <td>37.390427</td>\n",
       "      <td>72.849424</td>\n",
       "      <td>2019-09-20</td>\n",
       "      <td>372</td>\n",
       "    </tr>\n",
       "    <tr>\n",
       "      <th>1</th>\n",
       "      <td>235942</td>\n",
       "      <td>08:42</td>\n",
       "      <td>37.372289</td>\n",
       "      <td>72.885341</td>\n",
       "      <td>2020-03-15</td>\n",
       "      <td>372</td>\n",
       "    </tr>\n",
       "    <tr>\n",
       "      <th>2</th>\n",
       "      <td>973234</td>\n",
       "      <td>06:42</td>\n",
       "      <td>37.410268</td>\n",
       "      <td>72.853610</td>\n",
       "      <td>2018-12-21</td>\n",
       "      <td>375</td>\n",
       "    </tr>\n",
       "    <tr>\n",
       "      <th>3</th>\n",
       "      <td>973473</td>\n",
       "      <td>05:42</td>\n",
       "      <td>37.397067</td>\n",
       "      <td>72.872533</td>\n",
       "      <td>2018-12-21</td>\n",
       "      <td>624</td>\n",
       "    </tr>\n",
       "    <tr>\n",
       "      <th>4</th>\n",
       "      <td>1016546</td>\n",
       "      <td>06:42</td>\n",
       "      <td>37.425545</td>\n",
       "      <td>72.895137</td>\n",
       "      <td>2019-01-11</td>\n",
       "      <td>668</td>\n",
       "    </tr>\n",
       "  </tbody>\n",
       "</table>\n",
       "</div>"
      ],
      "text/plain": [
       "     DE_ID SHIFT_END_TIME  DE_HOME_LAT  DE_HOME_LNG DE_JOINING_DATE  \\\n",
       "0   141533          06:42    37.390427    72.849424      2019-09-20   \n",
       "1   235942          08:42    37.372289    72.885341      2020-03-15   \n",
       "2   973234          06:42    37.410268    72.853610      2018-12-21   \n",
       "3   973473          05:42    37.397067    72.872533      2018-12-21   \n",
       "4  1016546          06:42    37.425545    72.895137      2019-01-11   \n",
       "\n",
       "   DE_ZONE_ID  \n",
       "0         372  \n",
       "1         372  \n",
       "2         375  \n",
       "3         624  \n",
       "4         668  "
      ]
     },
     "execution_count": 5,
     "metadata": {},
     "output_type": "execute_result"
    }
   ],
   "source": [
    "delivery_partners_data.head()"
   ]
  },
  {
   "cell_type": "code",
   "execution_count": 6,
   "id": "165078f9",
   "metadata": {},
   "outputs": [
    {
     "data": {
      "text/plain": [
       "0    124346\n",
       "1      8048\n",
       "Name: reject_ind, dtype: int64"
      ]
     },
     "execution_count": 6,
     "metadata": {},
     "output_type": "execute_result"
    }
   ],
   "source": [
    "assignment_data.reject_ind.value_counts()"
   ]
  },
  {
   "cell_type": "code",
   "execution_count": 48,
   "id": "f6065e8d",
   "metadata": {},
   "outputs": [
    {
     "data": {
      "text/html": [
       "<div>\n",
       "<style scoped>\n",
       "    .dataframe tbody tr th:only-of-type {\n",
       "        vertical-align: middle;\n",
       "    }\n",
       "\n",
       "    .dataframe tbody tr th {\n",
       "        vertical-align: top;\n",
       "    }\n",
       "\n",
       "    .dataframe thead th {\n",
       "        text-align: right;\n",
       "    }\n",
       "</style>\n",
       "<table border=\"1\" class=\"dataframe\">\n",
       "  <thead>\n",
       "    <tr style=\"text-align: right;\">\n",
       "      <th></th>\n",
       "      <th>ORDER_ID</th>\n",
       "      <th>DE_ID</th>\n",
       "      <th>ASSIGNMENT_START_TIME</th>\n",
       "      <th>ASSIGNMENT_END_TIME</th>\n",
       "      <th>reject_ind</th>\n",
       "      <th>reject_type</th>\n",
       "      <th>PLACED_TIME</th>\n",
       "      <th>DELIVERED_TIME</th>\n",
       "      <th>LASTMILE_DISTANCE</th>\n",
       "      <th>FIRSTMILE_DISTANCE</th>\n",
       "      <th>...</th>\n",
       "      <th>NUM_PING_COUNT_LAST10MIN</th>\n",
       "      <th>LAST_PING_TIME_LAST10MIN</th>\n",
       "      <th>CUSTOMER_ZONE</th>\n",
       "      <th>CUSTOMER_LAT</th>\n",
       "      <th>CUSTOMER_LNG</th>\n",
       "      <th>SHIFT_END_TIME</th>\n",
       "      <th>DE_HOME_LAT</th>\n",
       "      <th>DE_HOME_LNG</th>\n",
       "      <th>DE_JOINING_DATE</th>\n",
       "      <th>DE_ZONE_ID</th>\n",
       "    </tr>\n",
       "  </thead>\n",
       "  <tbody>\n",
       "    <tr>\n",
       "      <th>0</th>\n",
       "      <td>2745</td>\n",
       "      <td>180976</td>\n",
       "      <td>2021-02-13 03:08:24.000</td>\n",
       "      <td>2021-02-13 03:38:26.000</td>\n",
       "      <td>0</td>\n",
       "      <td>NaN</td>\n",
       "      <td>2021-02-13 03:01:11.686</td>\n",
       "      <td>2021-02-13 03:43:26.000</td>\n",
       "      <td>320.9</td>\n",
       "      <td>320.0</td>\n",
       "      <td>...</td>\n",
       "      <td>63</td>\n",
       "      <td>2021-02-13 03:07:34.000</td>\n",
       "      <td>373.0</td>\n",
       "      <td>37.377569</td>\n",
       "      <td>72.832560</td>\n",
       "      <td>05:42</td>\n",
       "      <td>37.374634</td>\n",
       "      <td>72.871986</td>\n",
       "      <td>2019-10-25</td>\n",
       "      <td>373</td>\n",
       "    </tr>\n",
       "    <tr>\n",
       "      <th>1</th>\n",
       "      <td>9462</td>\n",
       "      <td>280243</td>\n",
       "      <td>2021-02-14 05:06:40.000</td>\n",
       "      <td>2021-02-14 05:31:04.000</td>\n",
       "      <td>0</td>\n",
       "      <td>NaN</td>\n",
       "      <td>2021-02-14 04:54:25.832</td>\n",
       "      <td>2021-02-14 05:36:04.000</td>\n",
       "      <td>516.8</td>\n",
       "      <td>342.5</td>\n",
       "      <td>...</td>\n",
       "      <td>27</td>\n",
       "      <td>2021-02-14 05:06:40.000</td>\n",
       "      <td>373.0</td>\n",
       "      <td>37.380613</td>\n",
       "      <td>72.796909</td>\n",
       "      <td>06:42</td>\n",
       "      <td>37.377694</td>\n",
       "      <td>72.850738</td>\n",
       "      <td>2020-05-19</td>\n",
       "      <td>372</td>\n",
       "    </tr>\n",
       "    <tr>\n",
       "      <th>2</th>\n",
       "      <td>14071</td>\n",
       "      <td>339813</td>\n",
       "      <td>2021-02-15 02:22:40.000</td>\n",
       "      <td>2021-02-15 02:44:02.000</td>\n",
       "      <td>0</td>\n",
       "      <td>NaN</td>\n",
       "      <td>2021-02-15 02:01:17.864</td>\n",
       "      <td>2021-02-15 02:49:02.000</td>\n",
       "      <td>459.5</td>\n",
       "      <td>418.7</td>\n",
       "      <td>...</td>\n",
       "      <td>57</td>\n",
       "      <td>2021-02-15 02:22:35.000</td>\n",
       "      <td>373.0</td>\n",
       "      <td>37.372032</td>\n",
       "      <td>72.805871</td>\n",
       "      <td>05:42</td>\n",
       "      <td>37.395456</td>\n",
       "      <td>72.872473</td>\n",
       "      <td>2020-07-25</td>\n",
       "      <td>372</td>\n",
       "    </tr>\n",
       "    <tr>\n",
       "      <th>3</th>\n",
       "      <td>14442</td>\n",
       "      <td>1315348</td>\n",
       "      <td>2021-02-15 03:01:25.000</td>\n",
       "      <td>2021-02-15 03:15:02.000</td>\n",
       "      <td>0</td>\n",
       "      <td>NaN</td>\n",
       "      <td>2021-02-15 02:43:41.129</td>\n",
       "      <td>2021-02-15 03:20:02.000</td>\n",
       "      <td>376.4</td>\n",
       "      <td>332.9</td>\n",
       "      <td>...</td>\n",
       "      <td>41</td>\n",
       "      <td>2021-02-15 03:00:28.000</td>\n",
       "      <td>373.0</td>\n",
       "      <td>37.371380</td>\n",
       "      <td>72.819992</td>\n",
       "      <td>06:42</td>\n",
       "      <td>37.422797</td>\n",
       "      <td>72.824708</td>\n",
       "      <td>2019-06-02</td>\n",
       "      <td>372</td>\n",
       "    </tr>\n",
       "    <tr>\n",
       "      <th>4</th>\n",
       "      <td>14515</td>\n",
       "      <td>1186729</td>\n",
       "      <td>2021-02-15 03:12:24.000</td>\n",
       "      <td>2021-02-15 03:50:24.000</td>\n",
       "      <td>0</td>\n",
       "      <td>NaN</td>\n",
       "      <td>2021-02-15 02:48:17.074</td>\n",
       "      <td>2021-02-15 03:55:24.000</td>\n",
       "      <td>414.5</td>\n",
       "      <td>334.1</td>\n",
       "      <td>...</td>\n",
       "      <td>13</td>\n",
       "      <td>2021-02-15 03:12:09.000</td>\n",
       "      <td>373.0</td>\n",
       "      <td>37.369925</td>\n",
       "      <td>72.826764</td>\n",
       "      <td>05:42</td>\n",
       "      <td>37.386463</td>\n",
       "      <td>72.854589</td>\n",
       "      <td>2019-04-05</td>\n",
       "      <td>372</td>\n",
       "    </tr>\n",
       "  </tbody>\n",
       "</table>\n",
       "<p>5 rows × 22 columns</p>\n",
       "</div>"
      ],
      "text/plain": [
       "   ORDER_ID    DE_ID    ASSIGNMENT_START_TIME      ASSIGNMENT_END_TIME  \\\n",
       "0      2745   180976  2021-02-13 03:08:24.000  2021-02-13 03:38:26.000   \n",
       "1      9462   280243  2021-02-14 05:06:40.000  2021-02-14 05:31:04.000   \n",
       "2     14071   339813  2021-02-15 02:22:40.000  2021-02-15 02:44:02.000   \n",
       "3     14442  1315348  2021-02-15 03:01:25.000  2021-02-15 03:15:02.000   \n",
       "4     14515  1186729  2021-02-15 03:12:24.000  2021-02-15 03:50:24.000   \n",
       "\n",
       "   reject_ind reject_type              PLACED_TIME           DELIVERED_TIME  \\\n",
       "0           0         NaN  2021-02-13 03:01:11.686  2021-02-13 03:43:26.000   \n",
       "1           0         NaN  2021-02-14 04:54:25.832  2021-02-14 05:36:04.000   \n",
       "2           0         NaN  2021-02-15 02:01:17.864  2021-02-15 02:49:02.000   \n",
       "3           0         NaN  2021-02-15 02:43:41.129  2021-02-15 03:20:02.000   \n",
       "4           0         NaN  2021-02-15 02:48:17.074  2021-02-15 03:55:24.000   \n",
       "\n",
       "   LASTMILE_DISTANCE  FIRSTMILE_DISTANCE  ...  NUM_PING_COUNT_LAST10MIN  \\\n",
       "0              320.9               320.0  ...                        63   \n",
       "1              516.8               342.5  ...                        27   \n",
       "2              459.5               418.7  ...                        57   \n",
       "3              376.4               332.9  ...                        41   \n",
       "4              414.5               334.1  ...                        13   \n",
       "\n",
       "   LAST_PING_TIME_LAST10MIN  CUSTOMER_ZONE CUSTOMER_LAT  CUSTOMER_LNG  \\\n",
       "0   2021-02-13 03:07:34.000          373.0    37.377569     72.832560   \n",
       "1   2021-02-14 05:06:40.000          373.0    37.380613     72.796909   \n",
       "2   2021-02-15 02:22:35.000          373.0    37.372032     72.805871   \n",
       "3   2021-02-15 03:00:28.000          373.0    37.371380     72.819992   \n",
       "4   2021-02-15 03:12:09.000          373.0    37.369925     72.826764   \n",
       "\n",
       "   SHIFT_END_TIME  DE_HOME_LAT DE_HOME_LNG  DE_JOINING_DATE  DE_ZONE_ID  \n",
       "0           05:42    37.374634   72.871986       2019-10-25         373  \n",
       "1           06:42    37.377694   72.850738       2020-05-19         372  \n",
       "2           05:42    37.395456   72.872473       2020-07-25         372  \n",
       "3           06:42    37.422797   72.824708       2019-06-02         372  \n",
       "4           05:42    37.386463   72.854589       2019-04-05         372  \n",
       "\n",
       "[5 rows x 22 columns]"
      ]
     },
     "execution_count": 48,
     "metadata": {},
     "output_type": "execute_result"
    }
   ],
   "source": [
    "## joining both the dataframes to get the final data\n",
    "\n",
    "data = assignment_data.merge(delivery_partners_data, on = \"DE_ID\", how = \"left\")\n",
    "\n",
    "data.head()"
   ]
  },
  {
   "cell_type": "code",
   "execution_count": 49,
   "id": "18033c0d",
   "metadata": {},
   "outputs": [
    {
     "data": {
      "text/plain": [
       "((132394, 17), (991, 6), (132394, 22))"
      ]
     },
     "execution_count": 49,
     "metadata": {},
     "output_type": "execute_result"
    }
   ],
   "source": [
    "## checking the shape of original and final datasets\n",
    "\n",
    "assignment_data.shape, delivery_partners_data.shape, data.shape"
   ]
  },
  {
   "cell_type": "code",
   "execution_count": 13,
   "id": "4b52e3b1",
   "metadata": {
    "scrolled": false
   },
   "outputs": [
    {
     "name": "stdout",
     "output_type": "stream",
     "text": [
      "<class 'pandas.core.frame.DataFrame'>\n",
      "Int64Index: 132394 entries, 0 to 132393\n",
      "Data columns (total 22 columns):\n",
      " #   Column                    Non-Null Count   Dtype  \n",
      "---  ------                    --------------   -----  \n",
      " 0   ORDER_ID                  132394 non-null  int64  \n",
      " 1   DE_ID                     132394 non-null  int64  \n",
      " 2   ASSIGNMENT_START_TIME     132394 non-null  object \n",
      " 3   ASSIGNMENT_END_TIME       132394 non-null  object \n",
      " 4   reject_ind                132394 non-null  int64  \n",
      " 5   reject_type               8048 non-null    object \n",
      " 6   PLACED_TIME               132394 non-null  object \n",
      " 7   DELIVERED_TIME            131782 non-null  object \n",
      " 8   LASTMILE_DISTANCE         132384 non-null  float64\n",
      " 9   FIRSTMILE_DISTANCE        132238 non-null  float64\n",
      " 10  LAST_MILE_TIME_PREDICTED  132394 non-null  float64\n",
      " 11  PAYOUT_MADE_TO_DE         132391 non-null  float64\n",
      " 12  NUM_PING_COUNT_LAST10MIN  132394 non-null  int64  \n",
      " 13  LAST_PING_TIME_LAST10MIN  132394 non-null  object \n",
      " 14  CUSTOMER_ZONE             113853 non-null  float64\n",
      " 15  CUSTOMER_LAT              132394 non-null  float64\n",
      " 16  CUSTOMER_LNG              132394 non-null  float64\n",
      " 17  SHIFT_END_TIME            132394 non-null  object \n",
      " 18  DE_HOME_LAT               132394 non-null  float64\n",
      " 19  DE_HOME_LNG               132394 non-null  float64\n",
      " 20  DE_JOINING_DATE           132394 non-null  object \n",
      " 21  DE_ZONE_ID                132394 non-null  int64  \n",
      "dtypes: float64(9), int64(5), object(8)\n",
      "memory usage: 23.2+ MB\n"
     ]
    }
   ],
   "source": [
    "data.info()"
   ]
  },
  {
   "cell_type": "code",
   "execution_count": 23,
   "id": "80754aca",
   "metadata": {},
   "outputs": [
    {
     "data": {
      "text/html": [
       "<div>\n",
       "<style scoped>\n",
       "    .dataframe tbody tr th:only-of-type {\n",
       "        vertical-align: middle;\n",
       "    }\n",
       "\n",
       "    .dataframe tbody tr th {\n",
       "        vertical-align: top;\n",
       "    }\n",
       "\n",
       "    .dataframe thead th {\n",
       "        text-align: right;\n",
       "    }\n",
       "</style>\n",
       "<table border=\"1\" class=\"dataframe\">\n",
       "  <thead>\n",
       "    <tr style=\"text-align: right;\">\n",
       "      <th></th>\n",
       "      <th>ORDER_ID</th>\n",
       "      <th>DE_ID</th>\n",
       "      <th>reject_ind</th>\n",
       "      <th>LASTMILE_DISTANCE</th>\n",
       "      <th>FIRSTMILE_DISTANCE</th>\n",
       "      <th>LAST_MILE_TIME_PREDICTED</th>\n",
       "      <th>PAYOUT_MADE_TO_DE</th>\n",
       "      <th>NUM_PING_COUNT_LAST10MIN</th>\n",
       "      <th>CUSTOMER_ZONE</th>\n",
       "      <th>CUSTOMER_LAT</th>\n",
       "      <th>CUSTOMER_LNG</th>\n",
       "      <th>DE_HOME_LAT</th>\n",
       "      <th>DE_HOME_LNG</th>\n",
       "      <th>DE_ZONE_ID</th>\n",
       "      <th>ASSIGNMENT_TIME</th>\n",
       "      <th>DELIVERY_TIME</th>\n",
       "    </tr>\n",
       "  </thead>\n",
       "  <tbody>\n",
       "    <tr>\n",
       "      <th>count</th>\n",
       "      <td>132394.000000</td>\n",
       "      <td>1.323940e+05</td>\n",
       "      <td>132394.000000</td>\n",
       "      <td>132384.000000</td>\n",
       "      <td>132238.000000</td>\n",
       "      <td>132394.000000</td>\n",
       "      <td>132391.000000</td>\n",
       "      <td>132394.000000</td>\n",
       "      <td>113853.000000</td>\n",
       "      <td>132394.000000</td>\n",
       "      <td>132394.000000</td>\n",
       "      <td>132394.000000</td>\n",
       "      <td>132394.000000</td>\n",
       "      <td>132394.000000</td>\n",
       "      <td>132394.000000</td>\n",
       "      <td>131782.000000</td>\n",
       "    </tr>\n",
       "    <tr>\n",
       "      <th>mean</th>\n",
       "      <td>62266.261303</td>\n",
       "      <td>6.156389e+05</td>\n",
       "      <td>0.060788</td>\n",
       "      <td>432.864177</td>\n",
       "      <td>364.857121</td>\n",
       "      <td>403.579538</td>\n",
       "      <td>2764.807124</td>\n",
       "      <td>24.165408</td>\n",
       "      <td>489.926537</td>\n",
       "      <td>37.389104</td>\n",
       "      <td>72.859044</td>\n",
       "      <td>37.375983</td>\n",
       "      <td>72.882069</td>\n",
       "      <td>484.022040</td>\n",
       "      <td>27.978552</td>\n",
       "      <td>41.169406</td>\n",
       "    </tr>\n",
       "    <tr>\n",
       "      <th>std</th>\n",
       "      <td>36083.677703</td>\n",
       "      <td>3.801389e+05</td>\n",
       "      <td>0.238942</td>\n",
       "      <td>82.305359</td>\n",
       "      <td>40.211260</td>\n",
       "      <td>53.905507</td>\n",
       "      <td>1277.496520</td>\n",
       "      <td>17.674050</td>\n",
       "      <td>171.226181</td>\n",
       "      <td>0.023136</td>\n",
       "      <td>0.032406</td>\n",
       "      <td>0.258701</td>\n",
       "      <td>0.491812</td>\n",
       "      <td>173.045174</td>\n",
       "      <td>13.005148</td>\n",
       "      <td>13.842664</td>\n",
       "    </tr>\n",
       "    <tr>\n",
       "      <th>min</th>\n",
       "      <td>1.000000</td>\n",
       "      <td>2.200000e+02</td>\n",
       "      <td>0.000000</td>\n",
       "      <td>320.000000</td>\n",
       "      <td>320.000000</td>\n",
       "      <td>250.000000</td>\n",
       "      <td>0.000000</td>\n",
       "      <td>1.000000</td>\n",
       "      <td>372.000000</td>\n",
       "      <td>37.271775</td>\n",
       "      <td>72.703223</td>\n",
       "      <td>25.268688</td>\n",
       "      <td>70.910224</td>\n",
       "      <td>372.000000</td>\n",
       "      <td>0.100000</td>\n",
       "      <td>7.390000</td>\n",
       "    </tr>\n",
       "    <tr>\n",
       "      <th>25%</th>\n",
       "      <td>30948.250000</td>\n",
       "      <td>3.338200e+05</td>\n",
       "      <td>0.000000</td>\n",
       "      <td>373.400000</td>\n",
       "      <td>327.500000</td>\n",
       "      <td>361.500000</td>\n",
       "      <td>2110.000000</td>\n",
       "      <td>11.000000</td>\n",
       "      <td>373.000000</td>\n",
       "      <td>37.371754</td>\n",
       "      <td>72.837974</td>\n",
       "      <td>37.368926</td>\n",
       "      <td>72.841093</td>\n",
       "      <td>372.000000</td>\n",
       "      <td>19.720000</td>\n",
       "      <td>31.580000</td>\n",
       "    </tr>\n",
       "    <tr>\n",
       "      <th>50%</th>\n",
       "      <td>62166.500000</td>\n",
       "      <td>3.862560e+05</td>\n",
       "      <td>0.000000</td>\n",
       "      <td>415.400000</td>\n",
       "      <td>356.600000</td>\n",
       "      <td>399.500000</td>\n",
       "      <td>2610.000000</td>\n",
       "      <td>20.000000</td>\n",
       "      <td>375.000000</td>\n",
       "      <td>37.387886</td>\n",
       "      <td>72.856902</td>\n",
       "      <td>37.384657</td>\n",
       "      <td>72.859931</td>\n",
       "      <td>374.000000</td>\n",
       "      <td>26.720000</td>\n",
       "      <td>39.240000</td>\n",
       "    </tr>\n",
       "    <tr>\n",
       "      <th>75%</th>\n",
       "      <td>93589.750000</td>\n",
       "      <td>9.462630e+05</td>\n",
       "      <td>0.000000</td>\n",
       "      <td>473.900000</td>\n",
       "      <td>392.600000</td>\n",
       "      <td>440.800000</td>\n",
       "      <td>3260.000000</td>\n",
       "      <td>32.000000</td>\n",
       "      <td>624.000000</td>\n",
       "      <td>37.407065</td>\n",
       "      <td>72.878175</td>\n",
       "      <td>37.405834</td>\n",
       "      <td>72.880463</td>\n",
       "      <td>624.000000</td>\n",
       "      <td>35.000000</td>\n",
       "      <td>48.420000</td>\n",
       "    </tr>\n",
       "    <tr>\n",
       "      <th>max</th>\n",
       "      <td>124798.000000</td>\n",
       "      <td>1.376302e+06</td>\n",
       "      <td>1.000000</td>\n",
       "      <td>1044.500000</td>\n",
       "      <td>743.000000</td>\n",
       "      <td>642.300000</td>\n",
       "      <td>10410.000000</td>\n",
       "      <td>120.000000</td>\n",
       "      <td>841.000000</td>\n",
       "      <td>37.483737</td>\n",
       "      <td>73.029503</td>\n",
       "      <td>38.031204</td>\n",
       "      <td>84.199659</td>\n",
       "      <td>1192.000000</td>\n",
       "      <td>558.420000</td>\n",
       "      <td>563.640000</td>\n",
       "    </tr>\n",
       "  </tbody>\n",
       "</table>\n",
       "</div>"
      ],
      "text/plain": [
       "            ORDER_ID         DE_ID     reject_ind  LASTMILE_DISTANCE  \\\n",
       "count  132394.000000  1.323940e+05  132394.000000      132384.000000   \n",
       "mean    62266.261303  6.156389e+05       0.060788         432.864177   \n",
       "std     36083.677703  3.801389e+05       0.238942          82.305359   \n",
       "min         1.000000  2.200000e+02       0.000000         320.000000   \n",
       "25%     30948.250000  3.338200e+05       0.000000         373.400000   \n",
       "50%     62166.500000  3.862560e+05       0.000000         415.400000   \n",
       "75%     93589.750000  9.462630e+05       0.000000         473.900000   \n",
       "max    124798.000000  1.376302e+06       1.000000        1044.500000   \n",
       "\n",
       "       FIRSTMILE_DISTANCE  LAST_MILE_TIME_PREDICTED  PAYOUT_MADE_TO_DE  \\\n",
       "count       132238.000000             132394.000000      132391.000000   \n",
       "mean           364.857121                403.579538        2764.807124   \n",
       "std             40.211260                 53.905507        1277.496520   \n",
       "min            320.000000                250.000000           0.000000   \n",
       "25%            327.500000                361.500000        2110.000000   \n",
       "50%            356.600000                399.500000        2610.000000   \n",
       "75%            392.600000                440.800000        3260.000000   \n",
       "max            743.000000                642.300000       10410.000000   \n",
       "\n",
       "       NUM_PING_COUNT_LAST10MIN  CUSTOMER_ZONE   CUSTOMER_LAT   CUSTOMER_LNG  \\\n",
       "count             132394.000000  113853.000000  132394.000000  132394.000000   \n",
       "mean                  24.165408     489.926537      37.389104      72.859044   \n",
       "std                   17.674050     171.226181       0.023136       0.032406   \n",
       "min                    1.000000     372.000000      37.271775      72.703223   \n",
       "25%                   11.000000     373.000000      37.371754      72.837974   \n",
       "50%                   20.000000     375.000000      37.387886      72.856902   \n",
       "75%                   32.000000     624.000000      37.407065      72.878175   \n",
       "max                  120.000000     841.000000      37.483737      73.029503   \n",
       "\n",
       "         DE_HOME_LAT    DE_HOME_LNG     DE_ZONE_ID  ASSIGNMENT_TIME  \\\n",
       "count  132394.000000  132394.000000  132394.000000    132394.000000   \n",
       "mean       37.375983      72.882069     484.022040        27.978552   \n",
       "std         0.258701       0.491812     173.045174        13.005148   \n",
       "min        25.268688      70.910224     372.000000         0.100000   \n",
       "25%        37.368926      72.841093     372.000000        19.720000   \n",
       "50%        37.384657      72.859931     374.000000        26.720000   \n",
       "75%        37.405834      72.880463     624.000000        35.000000   \n",
       "max        38.031204      84.199659    1192.000000       558.420000   \n",
       "\n",
       "       DELIVERY_TIME  \n",
       "count  131782.000000  \n",
       "mean       41.169406  \n",
       "std        13.842664  \n",
       "min         7.390000  \n",
       "25%        31.580000  \n",
       "50%        39.240000  \n",
       "75%        48.420000  \n",
       "max       563.640000  "
      ]
     },
     "execution_count": 23,
     "metadata": {},
     "output_type": "execute_result"
    }
   ],
   "source": [
    "data.describe()"
   ]
  },
  {
   "cell_type": "markdown",
   "id": "8954f7ab",
   "metadata": {},
   "source": [
    "## Null values"
   ]
  },
  {
   "cell_type": "code",
   "execution_count": 52,
   "id": "5209541f",
   "metadata": {
    "scrolled": false
   },
   "outputs": [
    {
     "data": {
      "text/plain": [
       "ORDER_ID                         0\n",
       "DE_ID                            0\n",
       "ASSIGNMENT_START_TIME            0\n",
       "ASSIGNMENT_END_TIME              0\n",
       "reject_ind                       0\n",
       "reject_type                 124346\n",
       "PLACED_TIME                      0\n",
       "DELIVERED_TIME                 612\n",
       "LASTMILE_DISTANCE               10\n",
       "FIRSTMILE_DISTANCE             156\n",
       "LAST_MILE_TIME_PREDICTED         0\n",
       "PAYOUT_MADE_TO_DE                3\n",
       "NUM_PING_COUNT_LAST10MIN         0\n",
       "LAST_PING_TIME_LAST10MIN         0\n",
       "CUSTOMER_ZONE                18541\n",
       "CUSTOMER_LAT                     0\n",
       "CUSTOMER_LNG                     0\n",
       "SHIFT_END_TIME                   0\n",
       "DE_HOME_LAT                      0\n",
       "DE_HOME_LNG                      0\n",
       "DE_JOINING_DATE                  0\n",
       "DE_ZONE_ID                       0\n",
       "ASSIGNMENT_TIME                  0\n",
       "DELIVERY_TIME                  612\n",
       "dtype: int64"
      ]
     },
     "execution_count": 52,
     "metadata": {},
     "output_type": "execute_result"
    }
   ],
   "source": [
    "data.isna().sum()"
   ]
  },
  {
   "cell_type": "code",
   "execution_count": 53,
   "id": "3b5fbc48",
   "metadata": {
    "scrolled": false
   },
   "outputs": [
    {
     "name": "stdout",
     "output_type": "stream",
     "text": [
      "    reject_ind reject_type\n",
      "12           1      Type-2\n",
      "38           1      Type-2\n",
      "44           1      Type-1\n",
      "47           1      Type-4\n",
      "56           1      Type-2\n"
     ]
    },
    {
     "data": {
      "text/plain": [
       "(8048, 2)"
      ]
     },
     "execution_count": 53,
     "metadata": {},
     "output_type": "execute_result"
    }
   ],
   "source": [
    "print(data[assignment_data.reject_ind == 1][['reject_ind', 'reject_type']].head()) \n",
    "data[assignment_data.reject_ind == 1][['reject_ind', 'reject_type']].shape"
   ]
  },
  {
   "cell_type": "code",
   "execution_count": 54,
   "id": "d29a7920",
   "metadata": {},
   "outputs": [],
   "source": [
    "#### variable encoding for \"reject_type\"\n",
    "\n",
    "def reject_type(x):\n",
    "    if x == \"Type-1\":\n",
    "        return 1\n",
    "    elif x == \"Type-2\":\n",
    "        return 2\n",
    "    elif x == \"Type-3\":\n",
    "        return 3\n",
    "    elif x == \"Type-4\":\n",
    "        return 4\n",
    "    else:\n",
    "        return 0\n",
    "    \n",
    "data[\"reject_type\"] = data[\"reject_type\"].apply(reject_type)"
   ]
  },
  {
   "cell_type": "code",
   "execution_count": 55,
   "id": "7f15322f",
   "metadata": {},
   "outputs": [
    {
     "data": {
      "text/plain": [
       "0    124346\n",
       "1      3853\n",
       "2      2007\n",
       "3      1449\n",
       "4       739\n",
       "Name: reject_type, dtype: int64"
      ]
     },
     "execution_count": 55,
     "metadata": {},
     "output_type": "execute_result"
    }
   ],
   "source": [
    "data[\"reject_type\"].value_counts()"
   ]
  },
  {
   "cell_type": "code",
   "execution_count": 80,
   "id": "8276859f",
   "metadata": {},
   "outputs": [],
   "source": [
    "data[\"DELIVERY_TIME\"].fillna((data[\"DELIVERY_TIME\"].mean()), inplace = True)\n",
    "data[\"PAYOUT_MADE_TO_DE\"].fillna((data[\"PAYOUT_MADE_TO_DE\"].mean()), inplace = True)\n",
    "data[\"FIRSTMILE_DISTANCE\"].fillna((data[\"FIRSTMILE_DISTANCE\"].mean()), inplace = True)\n",
    "data[\"LASTMILE_DISTANCE\"].fillna((data[\"LASTMILE_DISTANCE\"].mean()), inplace = True)\n",
    "\n",
    "data[\"CUSTOMER_ZONE\"].fillna((data[\"CUSTOMER_ZONE\"].mean()), inplace = True)"
   ]
  },
  {
   "cell_type": "markdown",
   "id": "93d4adfc",
   "metadata": {},
   "source": [
    "## Feature Engineering "
   ]
  },
  {
   "cell_type": "code",
   "execution_count": 51,
   "id": "ab601bce",
   "metadata": {},
   "outputs": [
    {
     "data": {
      "text/html": [
       "<div>\n",
       "<style scoped>\n",
       "    .dataframe tbody tr th:only-of-type {\n",
       "        vertical-align: middle;\n",
       "    }\n",
       "\n",
       "    .dataframe tbody tr th {\n",
       "        vertical-align: top;\n",
       "    }\n",
       "\n",
       "    .dataframe thead th {\n",
       "        text-align: right;\n",
       "    }\n",
       "</style>\n",
       "<table border=\"1\" class=\"dataframe\">\n",
       "  <thead>\n",
       "    <tr style=\"text-align: right;\">\n",
       "      <th></th>\n",
       "      <th>ASSIGNMENT_TIME</th>\n",
       "      <th>DELIVERY_TIME</th>\n",
       "    </tr>\n",
       "  </thead>\n",
       "  <tbody>\n",
       "    <tr>\n",
       "      <th>0</th>\n",
       "      <td>30.03</td>\n",
       "      <td>42.24</td>\n",
       "    </tr>\n",
       "    <tr>\n",
       "      <th>1</th>\n",
       "      <td>24.40</td>\n",
       "      <td>41.64</td>\n",
       "    </tr>\n",
       "    <tr>\n",
       "      <th>2</th>\n",
       "      <td>21.37</td>\n",
       "      <td>47.74</td>\n",
       "    </tr>\n",
       "    <tr>\n",
       "      <th>3</th>\n",
       "      <td>13.62</td>\n",
       "      <td>36.35</td>\n",
       "    </tr>\n",
       "    <tr>\n",
       "      <th>4</th>\n",
       "      <td>38.00</td>\n",
       "      <td>67.12</td>\n",
       "    </tr>\n",
       "  </tbody>\n",
       "</table>\n",
       "</div>"
      ],
      "text/plain": [
       "   ASSIGNMENT_TIME  DELIVERY_TIME\n",
       "0            30.03          42.24\n",
       "1            24.40          41.64\n",
       "2            21.37          47.74\n",
       "3            13.62          36.35\n",
       "4            38.00          67.12"
      ]
     },
     "execution_count": 51,
     "metadata": {},
     "output_type": "execute_result"
    }
   ],
   "source": [
    "data['ASSIGNMENT_TIME'] = round(((pd.to_datetime(data['ASSIGNMENT_END_TIME']) - \n",
    "                            pd.to_datetime(data['ASSIGNMENT_START_TIME']))\n",
    "                                .dt.total_seconds() / 60),2)\n",
    "\n",
    "data['DELIVERY_TIME'] = round(((pd.to_datetime(data['DELIVERED_TIME']) - \n",
    "                            pd.to_datetime(data['PLACED_TIME']))\n",
    "                                .dt.total_seconds() / 60), 2)\n",
    "\n",
    "data[['ASSIGNMENT_TIME', 'DELIVERY_TIME']].head()"
   ]
  },
  {
   "cell_type": "code",
   "execution_count": 40,
   "id": "0c8ae489",
   "metadata": {
    "scrolled": false
   },
   "outputs": [
    {
     "name": "stdout",
     "output_type": "stream",
     "text": [
      "Type-1    3853\n",
      "Type-2    2007\n",
      "Type-3    1449\n",
      "Type-4     739\n",
      "Name: reject_type, dtype: int64\n"
     ]
    },
    {
     "data": {
      "text/plain": [
       "(<AxesSubplot:>, None)"
      ]
     },
     "execution_count": 40,
     "metadata": {},
     "output_type": "execute_result"
    },
    {
     "data": {
      "image/png": "[encoded data removed]",
      "text/plain": [
       "<Figure size 432x288 with 1 Axes>"
      ]
     },
     "metadata": {
      "needs_background": "light"
     },
     "output_type": "display_data"
    }
   ],
   "source": [
    "temp = data[\"reject_type\"].value_counts()\n",
    "\n",
    "temp.plot(kind = \"bar\"), print(temp)"
   ]
  },
  {
   "cell_type": "markdown",
   "id": "175ceabc",
   "metadata": {},
   "source": [
    "## EDA"
   ]
  },
  {
   "cell_type": "code",
   "execution_count": 81,
   "id": "c6a0e81f",
   "metadata": {},
   "outputs": [
    {
     "data": {
      "text/plain": [
       "Index(['ORDER_ID', 'DE_ID', 'ASSIGNMENT_START_TIME', 'ASSIGNMENT_END_TIME',\n",
       "       'reject_ind', 'reject_type', 'PLACED_TIME', 'DELIVERED_TIME',\n",
       "       'LASTMILE_DISTANCE', 'FIRSTMILE_DISTANCE', 'LAST_MILE_TIME_PREDICTED',\n",
       "       'PAYOUT_MADE_TO_DE', 'NUM_PING_COUNT_LAST10MIN',\n",
       "       'LAST_PING_TIME_LAST10MIN', 'CUSTOMER_ZONE', 'CUSTOMER_LAT',\n",
       "       'CUSTOMER_LNG', 'SHIFT_END_TIME', 'DE_HOME_LAT', 'DE_HOME_LNG',\n",
       "       'DE_JOINING_DATE', 'DE_ZONE_ID', 'ASSIGNMENT_TIME', 'DELIVERY_TIME'],\n",
       "      dtype='object')"
      ]
     },
     "execution_count": 81,
     "metadata": {},
     "output_type": "execute_result"
    }
   ],
   "source": [
    "data.columns"
   ]
  },
  {
   "cell_type": "code",
   "execution_count": 82,
   "id": "6a404582",
   "metadata": {},
   "outputs": [],
   "source": [
    "coor_mat_data = data[['ORDER_ID', 'DE_ID',\n",
    "       'reject_ind',\n",
    "       'LASTMILE_DISTANCE', 'FIRSTMILE_DISTANCE', 'LAST_MILE_TIME_PREDICTED',\n",
    "       'PAYOUT_MADE_TO_DE', 'NUM_PING_COUNT_LAST10MIN', 'CUSTOMER_ZONE', 'CUSTOMER_LAT',\n",
    "       'CUSTOMER_LNG', 'DE_HOME_LAT', 'DE_HOME_LNG', 'DE_ZONE_ID', 'ASSIGNMENT_TIME', 'DELIVERY_TIME']]"
   ]
  },
  {
   "cell_type": "code",
   "execution_count": 83,
   "id": "5c259cda",
   "metadata": {},
   "outputs": [
    {
     "data": {
      "image/png": "[encoded data removed]",
      "text/plain": [
       "<Figure size 1080x1080 with 2 Axes>"
      ]
     },
     "metadata": {
      "needs_background": "light"
     },
     "output_type": "display_data"
    }
   ],
   "source": [
    "corr_matrix = coor_mat_data.corr()\n",
    "\n",
    "fig, ax = plt.subplots(figsize=(15,15))\n",
    "ax = sns.heatmap(corr_matrix, annot=True, linewidths=.5, ax=ax)"
   ]
  },
  {
   "cell_type": "code",
   "execution_count": 84,
   "id": "21a7f3d7",
   "metadata": {},
   "outputs": [
    {
     "data": {
      "image/png": "[encoded data removed]",
      "text/plain": [
       "<Figure size 504x504 with 2 Axes>"
      ]
     },
     "metadata": {
      "needs_background": "light"
     },
     "output_type": "display_data"
    }
   ],
   "source": [
    "corr_matrix = data[['CUSTOMER_ZONE', 'CUSTOMER_LAT',\n",
    "       'CUSTOMER_LNG']].corr()\n",
    "\n",
    "fig, ax = plt.subplots(figsize=(7,7))\n",
    "ax = sns.heatmap(corr_matrix, annot=True, linewidths=.5, ax=ax)"
   ]
  },
  {
   "cell_type": "markdown",
   "id": "bed44575",
   "metadata": {},
   "source": [
    "## Models"
   ]
  },
  {
   "cell_type": "code",
   "execution_count": 57,
   "id": "79cdf056",
   "metadata": {},
   "outputs": [],
   "source": [
    "import numpy as np\n",
    "from sklearn.model_selection import train_test_split"
   ]
  },
  {
   "cell_type": "code",
   "execution_count": 95,
   "id": "d30df2b2",
   "metadata": {},
   "outputs": [],
   "source": [
    "y = data[\"reject_ind\"]\n",
    "X = data[['ORDER_ID', 'DE_ID',\n",
    "       'LASTMILE_DISTANCE', 'FIRSTMILE_DISTANCE', 'LAST_MILE_TIME_PREDICTED',\n",
    "       'PAYOUT_MADE_TO_DE', 'NUM_PING_COUNT_LAST10MIN',\n",
    "       'CUSTOMER_ZONE', 'CUSTOMER_LAT',\n",
    "       'CUSTOMER_LNG', 'DE_HOME_LAT', 'DE_HOME_LNG',\n",
    "       'DE_ZONE_ID', 'ASSIGNMENT_TIME', 'DELIVERY_TIME']]"
   ]
  },
  {
   "cell_type": "code",
   "execution_count": 96,
   "id": "024d260c",
   "metadata": {},
   "outputs": [],
   "source": [
    "X_train, X_test, y_train, y_test = train_test_split(X, y, test_size=0.33, random_state=42)"
   ]
  },
  {
   "cell_type": "code",
   "execution_count": 97,
   "id": "a2b78ca8",
   "metadata": {},
   "outputs": [
    {
     "data": {
      "text/plain": [
       "((88703, 15), (43691, 15))"
      ]
     },
     "execution_count": 97,
     "metadata": {},
     "output_type": "execute_result"
    }
   ],
   "source": [
    "X_train.shape, X_test.shape"
   ]
  },
  {
   "cell_type": "code",
   "execution_count": 98,
   "id": "8e515932",
   "metadata": {
    "scrolled": false
   },
   "outputs": [
    {
     "name": "stdout",
     "output_type": "stream",
     "text": [
      "Fitting 4 folds for each of 10 candidates, totalling 40 fits\n"
     ]
    },
    {
     "name": "stderr",
     "output_type": "stream",
     "text": [
      "c:\\users\\dell\\appdata\\local\\programs\\python\\python37\\lib\\site-packages\\xgboost\\sklearn.py:1146: UserWarning:\n",
      "\n",
      "The use of label encoder in XGBClassifier is deprecated and will be removed in a future release. To remove this warning, do the following: 1) Pass option use_label_encoder=False when constructing XGBClassifier object; and 2) Encode your labels (y) as integers starting with 0, i.e. 0, 1, 2, ..., [num_class - 1].\n",
      "\n"
     ]
    },
    {
     "name": "stdout",
     "output_type": "stream",
     "text": [
      "[17:02:20] WARNING: C:/Users/Administrator/workspace/xgboost-win64_release_1.4.0/src/learner.cc:1095: Starting in XGBoost 1.3.0, the default evaluation metric used with the objective 'binary:logistic' was changed from 'error' to 'logloss'. Explicitly set eval_metric if you'd like to restore the old behavior.\n",
      "XGBClassifier(base_score=0.5, booster='gbtree', colsample_bylevel=1,\n",
      "              colsample_bynode=1, colsample_bytree=1.0, gamma=5, gpu_id=-1,\n",
      "              importance_type='gain', interaction_constraints='',\n",
      "              learning_rate=0.300000012, max_delta_step=0, max_depth=5,\n",
      "              min_child_weight=1, missing=nan, monotone_constraints='()',\n",
      "              n_estimators=100, n_jobs=4, num_parallel_tree=1, random_state=0,\n",
      "              reg_alpha=0, reg_lambda=1, scale_pos_weight=50, subsample=1.0,\n",
      "              tree_method='exact', validate_parameters=1, verbosity=None)\n",
      "Classification Report               precision    recall  f1-score   support\n",
      "\n",
      "           0       1.00      1.00      1.00     40976\n",
      "           1       1.00      1.00      1.00      2715\n",
      "\n",
      "    accuracy                           1.00     43691\n",
      "   macro avg       1.00      1.00      1.00     43691\n",
      "weighted avg       1.00      1.00      1.00     43691\n",
      "\n",
      "confusion matrix [[40976     0]\n",
      " [    0  2715]]\n",
      "Recall Score 1.0\n",
      "F1 Score 1.0\n"
     ]
    }
   ],
   "source": [
    "from xgboost import XGBClassifier\n",
    "from sklearn.model_selection import RandomizedSearchCV\n",
    "# random_grid ={'num_leaves': range(1, 50,10), \n",
    "#              'min_child_samples': range(100, 500,50), \n",
    "#              'min_child_weight': [1e-2, 1e-1, 1, 1e1, 1e2],\n",
    "#              'reg_alpha': [0, 1e-1, 1,  5, 10, 50, 100],\n",
    "#              'reg_lambda': [0, 1e-1, 1, 5, 10, 50, 100]}\n",
    "\n",
    "weights=[1, 10, 25, 50]\n",
    "params = {\n",
    "        'min_child_weight': [1e-2, 1e-1, 1, 1e2, 5],\n",
    "        'gamma': [0.5, 2, 5],\n",
    "        'subsample': [0.6, 0.8, 1.0],\n",
    "        'colsample_bytree': [0.6, 0.8, 1.0],\n",
    "        'max_depth': [3, 4, 5],\n",
    "        'scale_pos_weight':weights\n",
    "        }\n",
    "\n",
    "clf = XGBClassifier()\n",
    "rf_random = RandomizedSearchCV(clf,params,verbose=1,cv=4,n_jobs = -1,scoring='recall')\n",
    "rf_random.fit(X_train,y_train)\n",
    "\n",
    "print(rf_random.best_estimator_)\n",
    "\n",
    "from sklearn.metrics import classification_report,confusion_matrix,recall_score,f1_score\n",
    "print(\"Classification Report\",classification_report(y_pred=rf_random.best_estimator_.predict(X_test),y_true=y_test))\n",
    "print(\"confusion matrix\",confusion_matrix(y_pred=rf_random.best_estimator_.predict(X_test),y_true=y_test))\n",
    "print(\"Recall Score\",recall_score(y_pred=rf_random.best_estimator_.predict(X_test),y_true=y_test))\n",
    "print(\"F1 Score\",f1_score(y_pred=rf_random.best_estimator_.predict(X_test),y_true=y_test))"
   ]
  },
  {
   "cell_type": "code",
   "execution_count": 99,
   "id": "7f46e1e7",
   "metadata": {},
   "outputs": [
    {
     "name": "stderr",
     "output_type": "stream",
     "text": [
      "c:\\users\\dell\\appdata\\local\\programs\\python\\python37\\lib\\site-packages\\xgboost\\sklearn.py:1146: UserWarning:\n",
      "\n",
      "The use of label encoder in XGBClassifier is deprecated and will be removed in a future release. To remove this warning, do the following: 1) Pass option use_label_encoder=False when constructing XGBClassifier object; and 2) Encode your labels (y) as integers starting with 0, i.e. 0, 1, 2, ..., [num_class - 1].\n",
      "\n"
     ]
    },
    {
     "name": "stdout",
     "output_type": "stream",
     "text": [
      "[17:02:23] WARNING: C:/Users/Administrator/workspace/xgboost-win64_release_1.4.0/src/learner.cc:1095: Starting in XGBoost 1.3.0, the default evaluation metric used with the objective 'binary:logistic' was changed from 'error' to 'logloss'. Explicitly set eval_metric if you'd like to restore the old behavior.\n"
     ]
    },
    {
     "data": {
      "text/plain": [
       "XGBClassifier(base_score=0.5, booster='gbtree', colsample_bylevel=1,\n",
       "              colsample_bynode=1, colsample_bytree=0.8, gamma=0.5, gpu_id=-1,\n",
       "              importance_type='gain', interaction_constraints='',\n",
       "              learning_rate=0.300000012, max_delta_step=0, max_depth=5,\n",
       "              min_child_weight=5, missing=nan, monotone_constraints='()',\n",
       "              n_estimators=100, n_jobs=4, num_parallel_tree=1, random_state=0,\n",
       "              reg_alpha=0, reg_lambda=1, scale_pos_weight=1, subsample=0.6,\n",
       "              tree_method='exact', validate_parameters=1, verbosity=None)"
      ]
     },
     "execution_count": 99,
     "metadata": {},
     "output_type": "execute_result"
    }
   ],
   "source": [
    "model = XGBClassifier(base_score=0.5, booster='gbtree', colsample_bylevel=1,\n",
    "              colsample_bynode=1, colsample_bytree=0.8, gamma=0.5, gpu_id=-1,\n",
    "              importance_type='gain', interaction_constraints='',\n",
    "              learning_rate=0.300000012, max_delta_step=0, max_depth=5,\n",
    "              min_child_weight=5, monotone_constraints='()',\n",
    "              n_estimators=100, n_jobs=4, num_parallel_tree=1, random_state=0,\n",
    "              reg_alpha=0, reg_lambda=1, scale_pos_weight=1, subsample=0.6,\n",
    "              tree_method='exact', validate_parameters=1, verbosity=None)\n",
    "\n",
    "model.fit(X_train, y_train)"
   ]
  },
  {
   "cell_type": "code",
   "execution_count": 100,
   "id": "6b75cdfe",
   "metadata": {},
   "outputs": [
    {
     "data": {
      "image/png": "[encoded data removed]",
      "text/plain": [
       "<Figure size 432x288 with 1 Axes>"
      ]
     },
     "metadata": {
      "needs_background": "light"
     },
     "output_type": "display_data"
    }
   ],
   "source": [
    "from xgboost import plot_importance\n",
    "\n",
    "plot_importance(model)\n",
    "plt.show()"
   ]
  },
  {
   "cell_type": "markdown",
   "id": "d37c9ad3",
   "metadata": {},
   "source": [
    "- Here, PAYOUT_MADE_TO_DE, ASSIGNMENT_TIME, DELIVERY_TIME (difference between DELIVERED_TIME & PLACED_TIME) & LASTMILE DISTANCE are the most important features in deciding the output"
   ]
  },
  {
   "cell_type": "markdown",
   "id": "2cb04bd6",
   "metadata": {},
   "source": [
    "- The classification model can be used to predict which orders are likely to be rejected by the DE. \n",
    "- Hence, the allocation of DE can be improved."
   ]
  }
 ],
 "metadata": {
  "kernelspec": {
   "display_name": "Python 3",
   "language": "python",
   "name": "python3"
  },
  "language_info": {
   "codemirror_mode": {
    "name": "ipython",
    "version": 3
   },
   "file_extension": ".py",
   "mimetype": "text/x-python",
   "name": "python",
   "nbconvert_exporter": "python",
   "pygments_lexer": "ipython3",
   "version": "3.7.8rc1"
  }
 },
 "nbformat": 4,
 "nbformat_minor": 5
}
